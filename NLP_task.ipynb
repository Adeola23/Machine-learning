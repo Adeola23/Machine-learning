{
  "nbformat": 4,
  "nbformat_minor": 0,
  "metadata": {
    "colab": {
      "name": "NLP task",
      "provenance": [],
      "authorship_tag": "ABX9TyN7Yh8cpJ4dZyrdmszh7/Bv",
      "include_colab_link": true
    },
    "kernelspec": {
      "name": "python3",
      "display_name": "Python 3"
    },
    "accelerator": "GPU"
  },
  "cells": [
    {
      "cell_type": "markdown",
      "metadata": {
        "id": "view-in-github",
        "colab_type": "text"
      },
      "source": [
        "<a href=\"https://colab.research.google.com/github/Adeola23/Machine-learning/blob/main/NLP_task.ipynb\" target=\"_parent\"><img src=\"https://colab.research.google.com/assets/colab-badge.svg\" alt=\"Open In Colab\"/></a>"
      ]
    },
    {
      "cell_type": "code",
      "metadata": {
        "colab": {
          "base_uri": "https://localhost:8080/"
        },
        "id": "42xNd7Bani_B",
        "outputId": "0133ba41-2a81-496b-dd9e-6f20e693d1e3"
      },
      "source": [
        "import os\r\n",
        "os.environ['KAGGLE_USERNAME'] = \"ade0laa\" # username from the json file\r\n",
        "os.environ['KAGGLE_KEY'] = \"b1c944b0f8f0dc2f5eee86dc65cadf79\" # key from the json file\r\n",
        "!kaggle datasets download -d datatattle/covid-19-nlp-text-classification # api copied from kaggle"
      ],
      "execution_count": 40,
      "outputs": [
        {
          "output_type": "stream",
          "text": [
            "covid-19-nlp-text-classification.zip: Skipping, found more recently modified local copy (use --force to force download)\n"
          ],
          "name": "stdout"
        }
      ]
    },
    {
      "cell_type": "code",
      "metadata": {
        "colab": {
          "base_uri": "https://localhost:8080/"
        },
        "id": "JyAAdy-bo0e0",
        "outputId": "18443ed6-f73d-4d60-f77f-109b901b10bd"
      },
      "source": [
        "!unzip covid-19-nlp-text-classification.zip"
      ],
      "execution_count": 41,
      "outputs": [
        {
          "output_type": "stream",
          "text": [
            "Archive:  covid-19-nlp-text-classification.zip\n",
            "replace Corona_NLP_test.csv? [y]es, [n]o, [A]ll, [N]one, [r]ename: no\n",
            "replace Corona_NLP_train.csv? [y]es, [n]o, [A]ll, [N]one, [r]ename: n\n"
          ],
          "name": "stdout"
        }
      ]
    },
    {
      "cell_type": "code",
      "metadata": {
        "id": "ih1HxyINpTVm"
      },
      "source": [
        "import numpy as np # linear algebra\r\n",
        "import pandas as pd # data processing, CSV file I/O (e.g. pd.read_csv)\r\n",
        "import sklearn # import sklearn\r\n",
        "import nltk # import nltk\r\n",
        "from nltk.corpus import stopwords #import stop words\r\n",
        "import re # import regular expression\r\n",
        "from nltk.tokenize import word_tokenize # import word_tokenize\r\n",
        "import matplotlib\r\n",
        "from textblob import TextBlob\r\n",
        "from wordcloud import WordCloud\r\n",
        "import matplotlib.pyplot as plt #import matplotlib.pyplot \r\n",
        "from sklearn.feature_extraction.text import TfidfVectorizer #  import TF-idf vectorizer"
      ],
      "execution_count": 43,
      "outputs": []
    },
    {
      "cell_type": "code",
      "metadata": {
        "id": "Nb19kLrfzSrY"
      },
      "source": [
        "import tensorflow as tf\r\n",
        "from tensorflow.keras.preprocessing.text import Tokenizer\r\n",
        "from tensorflow.keras.preprocessing.sequence import pad_sequences\r\n",
        "from tensorflow.keras import layers, Sequential\r\n",
        "from tensorflow.keras.optimizers import Adam\r\n",
        "\r\n",
        "from sklearn.metrics import confusion_matrix\r\n",
        "from sklearn.metrics import accuracy_score\r\n",
        "\r\n",
        "import seaborn as sns"
      ],
      "execution_count": 109,
      "outputs": []
    },
    {
      "cell_type": "code",
      "metadata": {
        "id": "gbCnVKqipBMG"
      },
      "source": [
        "train_df = pd.read_csv(\"/content/Corona_NLP_train.csv\",  encoding='ISO-8859-1', parse_dates=['TweetAt'])\r\n",
        "test_df = pd.read_csv(\"/content/Corona_NLP_test.csv\",  encoding='ISO-8859-1', parse_dates=['TweetAt'])\r\n",
        "\r\n"
      ],
      "execution_count": 45,
      "outputs": []
    },
    {
      "cell_type": "code",
      "metadata": {
        "id": "vWyo3rPK3dVR"
      },
      "source": [
        "df_t = pd.read_csv(\"/content/Corona_NLP_train.csv\",  encoding='ISO-8859-1', parse_dates=['TweetAt'])"
      ],
      "execution_count": 46,
      "outputs": []
    },
    {
      "cell_type": "code",
      "metadata": {
        "id": "s_GbwQigNQ5_"
      },
      "source": [
        "df_q = pd.read_csv(\"/content/Corona_NLP_test.csv\",  encoding='ISO-8859-1', parse_dates=['TweetAt'])"
      ],
      "execution_count": 96,
      "outputs": []
    },
    {
      "cell_type": "code",
      "metadata": {
        "colab": {
          "base_uri": "https://localhost:8080/",
          "height": 201
        },
        "id": "ZJ8zV3IFqQEf",
        "outputId": "79434780-67f9-46e3-f2fd-a8b5ef8f7b16"
      },
      "source": [
        "train_df.head()"
      ],
      "execution_count": 47,
      "outputs": [
        {
          "output_type": "execute_result",
          "data": {
            "text/html": [
              "<div>\n",
              "<style scoped>\n",
              "    .dataframe tbody tr th:only-of-type {\n",
              "        vertical-align: middle;\n",
              "    }\n",
              "\n",
              "    .dataframe tbody tr th {\n",
              "        vertical-align: top;\n",
              "    }\n",
              "\n",
              "    .dataframe thead th {\n",
              "        text-align: right;\n",
              "    }\n",
              "</style>\n",
              "<table border=\"1\" class=\"dataframe\">\n",
              "  <thead>\n",
              "    <tr style=\"text-align: right;\">\n",
              "      <th></th>\n",
              "      <th>UserName</th>\n",
              "      <th>ScreenName</th>\n",
              "      <th>Location</th>\n",
              "      <th>TweetAt</th>\n",
              "      <th>OriginalTweet</th>\n",
              "      <th>Sentiment</th>\n",
              "    </tr>\n",
              "  </thead>\n",
              "  <tbody>\n",
              "    <tr>\n",
              "      <th>0</th>\n",
              "      <td>3799</td>\n",
              "      <td>48751</td>\n",
              "      <td>London</td>\n",
              "      <td>2020-03-16</td>\n",
              "      <td>@MeNyrbie @Phil_Gahan @Chrisitv https://t.co/i...</td>\n",
              "      <td>Neutral</td>\n",
              "    </tr>\n",
              "    <tr>\n",
              "      <th>1</th>\n",
              "      <td>3800</td>\n",
              "      <td>48752</td>\n",
              "      <td>UK</td>\n",
              "      <td>2020-03-16</td>\n",
              "      <td>advice Talk to your neighbours family to excha...</td>\n",
              "      <td>Positive</td>\n",
              "    </tr>\n",
              "    <tr>\n",
              "      <th>2</th>\n",
              "      <td>3801</td>\n",
              "      <td>48753</td>\n",
              "      <td>Vagabonds</td>\n",
              "      <td>2020-03-16</td>\n",
              "      <td>Coronavirus Australia: Woolworths to give elde...</td>\n",
              "      <td>Positive</td>\n",
              "    </tr>\n",
              "    <tr>\n",
              "      <th>3</th>\n",
              "      <td>3802</td>\n",
              "      <td>48754</td>\n",
              "      <td>NaN</td>\n",
              "      <td>2020-03-16</td>\n",
              "      <td>My food stock is not the only one which is emp...</td>\n",
              "      <td>Positive</td>\n",
              "    </tr>\n",
              "    <tr>\n",
              "      <th>4</th>\n",
              "      <td>3803</td>\n",
              "      <td>48755</td>\n",
              "      <td>NaN</td>\n",
              "      <td>2020-03-16</td>\n",
              "      <td>Me, ready to go at supermarket during the #COV...</td>\n",
              "      <td>Extremely Negative</td>\n",
              "    </tr>\n",
              "  </tbody>\n",
              "</table>\n",
              "</div>"
            ],
            "text/plain": [
              "   UserName  ...           Sentiment\n",
              "0      3799  ...             Neutral\n",
              "1      3800  ...            Positive\n",
              "2      3801  ...            Positive\n",
              "3      3802  ...            Positive\n",
              "4      3803  ...  Extremely Negative\n",
              "\n",
              "[5 rows x 6 columns]"
            ]
          },
          "metadata": {
            "tags": []
          },
          "execution_count": 47
        }
      ]
    },
    {
      "cell_type": "code",
      "metadata": {
        "colab": {
          "base_uri": "https://localhost:8080/",
          "height": 201
        },
        "id": "DYH2panxqYm2",
        "outputId": "8bb635f4-8823-4900-d76e-aab94284c43d"
      },
      "source": [
        "test_df.head()"
      ],
      "execution_count": 48,
      "outputs": [
        {
          "output_type": "execute_result",
          "data": {
            "text/html": [
              "<div>\n",
              "<style scoped>\n",
              "    .dataframe tbody tr th:only-of-type {\n",
              "        vertical-align: middle;\n",
              "    }\n",
              "\n",
              "    .dataframe tbody tr th {\n",
              "        vertical-align: top;\n",
              "    }\n",
              "\n",
              "    .dataframe thead th {\n",
              "        text-align: right;\n",
              "    }\n",
              "</style>\n",
              "<table border=\"1\" class=\"dataframe\">\n",
              "  <thead>\n",
              "    <tr style=\"text-align: right;\">\n",
              "      <th></th>\n",
              "      <th>UserName</th>\n",
              "      <th>ScreenName</th>\n",
              "      <th>Location</th>\n",
              "      <th>TweetAt</th>\n",
              "      <th>OriginalTweet</th>\n",
              "      <th>Sentiment</th>\n",
              "    </tr>\n",
              "  </thead>\n",
              "  <tbody>\n",
              "    <tr>\n",
              "      <th>0</th>\n",
              "      <td>1</td>\n",
              "      <td>44953</td>\n",
              "      <td>NYC</td>\n",
              "      <td>2020-02-03</td>\n",
              "      <td>TRENDING: New Yorkers encounter empty supermar...</td>\n",
              "      <td>Extremely Negative</td>\n",
              "    </tr>\n",
              "    <tr>\n",
              "      <th>1</th>\n",
              "      <td>2</td>\n",
              "      <td>44954</td>\n",
              "      <td>Seattle, WA</td>\n",
              "      <td>2020-02-03</td>\n",
              "      <td>When I couldn't find hand sanitizer at Fred Me...</td>\n",
              "      <td>Positive</td>\n",
              "    </tr>\n",
              "    <tr>\n",
              "      <th>2</th>\n",
              "      <td>3</td>\n",
              "      <td>44955</td>\n",
              "      <td>NaN</td>\n",
              "      <td>2020-02-03</td>\n",
              "      <td>Find out how you can protect yourself and love...</td>\n",
              "      <td>Extremely Positive</td>\n",
              "    </tr>\n",
              "    <tr>\n",
              "      <th>3</th>\n",
              "      <td>4</td>\n",
              "      <td>44956</td>\n",
              "      <td>Chicagoland</td>\n",
              "      <td>2020-02-03</td>\n",
              "      <td>#Panic buying hits #NewYork City as anxious sh...</td>\n",
              "      <td>Negative</td>\n",
              "    </tr>\n",
              "    <tr>\n",
              "      <th>4</th>\n",
              "      <td>5</td>\n",
              "      <td>44957</td>\n",
              "      <td>Melbourne, Victoria</td>\n",
              "      <td>2020-03-03</td>\n",
              "      <td>#toiletpaper #dunnypaper #coronavirus #coronav...</td>\n",
              "      <td>Neutral</td>\n",
              "    </tr>\n",
              "  </tbody>\n",
              "</table>\n",
              "</div>"
            ],
            "text/plain": [
              "   UserName  ...           Sentiment\n",
              "0         1  ...  Extremely Negative\n",
              "1         2  ...            Positive\n",
              "2         3  ...  Extremely Positive\n",
              "3         4  ...            Negative\n",
              "4         5  ...             Neutral\n",
              "\n",
              "[5 rows x 6 columns]"
            ]
          },
          "metadata": {
            "tags": []
          },
          "execution_count": 48
        }
      ]
    },
    {
      "cell_type": "code",
      "metadata": {
        "colab": {
          "base_uri": "https://localhost:8080/"
        },
        "id": "PEIBXVeBqdG2",
        "outputId": "c02e7fc1-5048-4505-ec13-13834c937229"
      },
      "source": [
        "train_df.isnull().sum()"
      ],
      "execution_count": 49,
      "outputs": [
        {
          "output_type": "execute_result",
          "data": {
            "text/plain": [
              "UserName            0\n",
              "ScreenName          0\n",
              "Location         8590\n",
              "TweetAt             0\n",
              "OriginalTweet       0\n",
              "Sentiment           0\n",
              "dtype: int64"
            ]
          },
          "metadata": {
            "tags": []
          },
          "execution_count": 49
        }
      ]
    },
    {
      "cell_type": "code",
      "metadata": {
        "colab": {
          "base_uri": "https://localhost:8080/"
        },
        "id": "VESuJiO4qihP",
        "outputId": "51c9d9b0-12d0-42a4-8fd1-15b24de99bdf"
      },
      "source": [
        "train_df.shape, test_df.shape"
      ],
      "execution_count": 50,
      "outputs": [
        {
          "output_type": "execute_result",
          "data": {
            "text/plain": [
              "((41157, 6), (3798, 6))"
            ]
          },
          "metadata": {
            "tags": []
          },
          "execution_count": 50
        }
      ]
    },
    {
      "cell_type": "code",
      "metadata": {
        "id": "k2qReSW1qrIy"
      },
      "source": [
        "# we combined the train_df and test_df into one dataframe for preprocessing\r\n",
        "\r\n",
        "# Create new column to identify the test data\r\n",
        "train_df['is_test'] = 0\r\n",
        "test_df['is_test'] = 1\r\n",
        "\r\n",
        "# combine \r\n",
        "comp_df = pd.concat([train_df, test_df])\r\n",
        "comp_df.reset_index(drop=True, inplace=True)\r\n"
      ],
      "execution_count": 51,
      "outputs": []
    },
    {
      "cell_type": "code",
      "metadata": {
        "colab": {
          "base_uri": "https://localhost:8080/"
        },
        "id": "oOFqTSp6qxpB",
        "outputId": "a614cb4c-705b-4fa3-af8d-e503f3f643a1"
      },
      "source": [
        "# Have a look on the target features\r\n",
        "comp_df.Sentiment.value_counts()"
      ],
      "execution_count": 52,
      "outputs": [
        {
          "output_type": "execute_result",
          "data": {
            "text/plain": [
              "Positive              12369\n",
              "Negative              10958\n",
              "Neutral                8332\n",
              "Extremely Positive     7223\n",
              "Extremely Negative     6073\n",
              "Name: Sentiment, dtype: int64"
            ]
          },
          "metadata": {
            "tags": []
          },
          "execution_count": 52
        }
      ]
    },
    {
      "cell_type": "code",
      "metadata": {
        "id": "9d0Za5ODq2px"
      },
      "source": [
        "comp_df['Sentiment'] = comp_df.Sentiment.str.replace('Extremely Positive', 'Positive')\r\n",
        "comp_df['Sentiment'] = comp_df.Sentiment.str.replace('Extremely Negative', 'Negative')"
      ],
      "execution_count": 53,
      "outputs": []
    },
    {
      "cell_type": "code",
      "metadata": {
        "colab": {
          "base_uri": "https://localhost:8080/",
          "height": 315
        },
        "id": "cmx27FpPq91j",
        "outputId": "a663055d-77f2-4c87-ecbd-66be69d32216"
      },
      "source": [
        "comp_df.Sentiment.value_counts().plot.bar(figsize=(7,4))\r\n",
        "plt.xticks(rotation=None)\r\n",
        "plt.title('Number of tweets in different sentiments',fontsize=12)\r\n",
        "plt.xlabel('Number of tweets', fontsize=12)\r\n",
        "plt.ylabel('Sentiment')"
      ],
      "execution_count": 54,
      "outputs": [
        {
          "output_type": "execute_result",
          "data": {
            "text/plain": [
              "Text(0, 0.5, 'Sentiment')"
            ]
          },
          "metadata": {
            "tags": []
          },
          "execution_count": 54
        },
        {
          "output_type": "display_data",
          "data": {
            "image/png": "[encoded data removed]",
            "text/plain": [
              "<Figure size 504x288 with 1 Axes>"
            ]
          },
          "metadata": {
            "tags": [],
            "needs_background": "light"
          }
        }
      ]
    },
    {
      "cell_type": "code",
      "metadata": {
        "id": "5kfcqd_fq_4a"
      },
      "source": [
        "# Map the sentiment into 0 , 1, 2\r\n",
        "comp_df['Sentiment'] = comp_df['Sentiment'].map({'Positive':2, 'Negative':0, 'Neutral':1})"
      ],
      "execution_count": 55,
      "outputs": []
    },
    {
      "cell_type": "code",
      "metadata": {
        "id": "NCcaLVNJrJ2U"
      },
      "source": [
        "comp_df['month'] = comp_df['TweetAt'].dt.month"
      ],
      "execution_count": 56,
      "outputs": []
    },
    {
      "cell_type": "code",
      "metadata": {
        "colab": {
          "base_uri": "https://localhost:8080/",
          "height": 279
        },
        "id": "nPd-tjTWrN29",
        "outputId": "e396e805-1981-455c-b4dc-51a7192324f4"
      },
      "source": [
        "# Visual the date with the labels\r\n",
        "pd.crosstab(comp_df.month, comp_df.Sentiment).plot.bar()\r\n",
        "plt.ylabel('Number of tweets')\r\n",
        "plt.xticks(rotation=None)\r\n",
        "plt.show()"
      ],
      "execution_count": 57,
      "outputs": [
        {
          "output_type": "display_data",
          "data": {
            "image/png": "[encoded data removed]",
            "text/plain": [
              "<Figure size 432x288 with 1 Axes>"
            ]
          },
          "metadata": {
            "tags": [],
            "needs_background": "light"
          }
        }
      ]
    },
    {
      "cell_type": "code",
      "metadata": {
        "id": "ruDcQ_-SrSP6"
      },
      "source": [
        "# In this task we will focus on the text data only, so we drop the other columns\r\n",
        "comp_df = comp_df[['OriginalTweet','Sentiment','is_test']]"
      ],
      "execution_count": 58,
      "outputs": []
    },
    {
      "cell_type": "code",
      "metadata": {
        "colab": {
          "base_uri": "https://localhost:8080/",
          "height": 35
        },
        "id": "o-6qJLkPraxR",
        "outputId": "fb05e939-f925-4328-e1c7-f081c0a673be"
      },
      "source": [
        "comp_df['OriginalTweet'][0]"
      ],
      "execution_count": 59,
      "outputs": [
        {
          "output_type": "execute_result",
          "data": {
            "application/vnd.google.colaboratory.intrinsic+json": {
              "type": "string"
            },
            "text/plain": [
              "'@MeNyrbie @Phil_Gahan @Chrisitv https://t.co/iFz9FAn2Pa and https://t.co/xX6ghGFzCC and https://t.co/I2NlzdxNo8'"
            ]
          },
          "metadata": {
            "tags": []
          },
          "execution_count": 59
        }
      ]
    },
    {
      "cell_type": "code",
      "metadata": {
        "id": "DxyuvOxPrpXA"
      },
      "source": [
        "#The elements we would like to remove from the tweet's content\r\n",
        "#URL\r\n",
        "#punctuations\r\n",
        "#tags\r\n",
        "#@ tags\r\n",
        "#extra space\r\n",
        "\r\n",
        "# Change columns name for easy access\r\n",
        "comp_df.columns =['tweet','label','is_test']"
      ],
      "execution_count": 60,
      "outputs": []
    },
    {
      "cell_type": "code",
      "metadata": {
        "id": "fnlh3lUFrzs3"
      },
      "source": [
        "#Remove @ tags\r\n",
        "comp_df.tweet = comp_df.tweet.str.replace(r'(@\\w*)','')\r\n",
        "\r\n",
        "#Remove URL\r\n",
        "comp_df.tweet = comp_df.tweet.str.replace(r\"http\\S+\", \"\")\r\n",
        "\r\n",
        "#Remove # tag\r\n",
        "comp_df.tweet = comp_df.tweet.str.replace(r'#\\w+',\"\")\r\n",
        "\r\n",
        "#Remove all non-character\r\n",
        "comp_df.tweet = comp_df.tweet.str.replace(r\"[^a-zA-Z ]\",\"\")\r\n",
        "\r\n",
        "# Remove extra space\r\n",
        "comp_df.tweet = comp_df.tweet.str.replace(r'( +)',\" \")\r\n",
        "comp_df.tweet = comp_df.tweet.str.strip()\r\n",
        "\r\n",
        "# Change to lowercase\r\n",
        "comp_df.tweet = comp_df.tweet.str.lower()"
      ],
      "execution_count": 61,
      "outputs": []
    },
    {
      "cell_type": "code",
      "metadata": {
        "colab": {
          "base_uri": "https://localhost:8080/",
          "height": 35
        },
        "id": "1FIXYPUKr9UA",
        "outputId": "e123a2f8-b9f9-4c7d-da18-b1f0bb04fa28"
      },
      "source": [
        "comp_df.tweet[0]"
      ],
      "execution_count": 62,
      "outputs": [
        {
          "output_type": "execute_result",
          "data": {
            "application/vnd.google.colaboratory.intrinsic+json": {
              "type": "string"
            },
            "text/plain": [
              "'and and'"
            ]
          },
          "metadata": {
            "tags": []
          },
          "execution_count": 62
        }
      ]
    },
    {
      "cell_type": "code",
      "metadata": {
        "colab": {
          "base_uri": "https://localhost:8080/"
        },
        "id": "qT8XX5w2slB5",
        "outputId": "b934a1d6-ff4a-4f7e-ac17-99a1f9ad7cce"
      },
      "source": [
        "nltk.download('punkt')"
      ],
      "execution_count": 63,
      "outputs": [
        {
          "output_type": "stream",
          "text": [
            "[nltk_data] Downloading package punkt to /root/nltk_data...\n",
            "[nltk_data]   Package punkt is already up-to-date!\n"
          ],
          "name": "stdout"
        },
        {
          "output_type": "execute_result",
          "data": {
            "text/plain": [
              "True"
            ]
          },
          "metadata": {
            "tags": []
          },
          "execution_count": 63
        }
      ]
    },
    {
      "cell_type": "code",
      "metadata": {
        "colab": {
          "base_uri": "https://localhost:8080/"
        },
        "id": "eH_iHfOisv5w",
        "outputId": "2e9a788e-c71e-491d-f782-227686b5c5b7"
      },
      "source": [
        " nltk.download('wordnet')"
      ],
      "execution_count": 64,
      "outputs": [
        {
          "output_type": "stream",
          "text": [
            "[nltk_data] Downloading package wordnet to /root/nltk_data...\n",
            "[nltk_data]   Package wordnet is already up-to-date!\n"
          ],
          "name": "stdout"
        },
        {
          "output_type": "execute_result",
          "data": {
            "text/plain": [
              "True"
            ]
          },
          "metadata": {
            "tags": []
          },
          "execution_count": 64
        }
      ]
    },
    {
      "cell_type": "code",
      "metadata": {
        "colab": {
          "base_uri": "https://localhost:8080/"
        },
        "id": "mLE_WKvbtEkj",
        "outputId": "b8fd0d85-bf52-40c0-bfbf-661d4cb73e20"
      },
      "source": [
        " nltk.download('stopwords')"
      ],
      "execution_count": 65,
      "outputs": [
        {
          "output_type": "stream",
          "text": [
            "[nltk_data] Downloading package stopwords to /root/nltk_data...\n",
            "[nltk_data]   Package stopwords is already up-to-date!\n"
          ],
          "name": "stdout"
        },
        {
          "output_type": "execute_result",
          "data": {
            "text/plain": [
              "True"
            ]
          },
          "metadata": {
            "tags": []
          },
          "execution_count": 65
        }
      ]
    },
    {
      "cell_type": "code",
      "metadata": {
        "id": "OyQZJ9rNsEAn"
      },
      "source": [
        "# Create new columns for storing\r\n",
        "comp_df['corpus'] = [nltk.word_tokenize(text) for text in comp_df.tweet]\r\n",
        "lemma = nltk.WordNetLemmatizer()\r\n",
        "comp_df.corpus = comp_df.apply(lambda x: [lemma.lemmatize(word) for word in x.corpus], axis=1)\r\n",
        "comp_df.corpus = comp_df.apply(lambda x: \" \".join(x.corpus),axis=1)"
      ],
      "execution_count": 66,
      "outputs": []
    },
    {
      "cell_type": "code",
      "metadata": {
        "id": "QEIBMPRjs3y5"
      },
      "source": [
        "stop_words = stopwords.words('english')"
      ],
      "execution_count": 67,
      "outputs": []
    },
    {
      "cell_type": "code",
      "metadata": {
        "colab": {
          "base_uri": "https://localhost:8080/"
        },
        "id": "uYQMOVhKtIHt",
        "outputId": "906696e1-4ad5-4d69-8279-d33c3f2981e6"
      },
      "source": [
        "text = comp_df.corpus.values\r\n",
        "wordcloud = WordCloud(max_words=500,background_color='black', stopwords=stop_words, colormap='rainbow',height=300)\r\n",
        "wordcloud.generate(str(text))"
      ],
      "execution_count": 68,
      "outputs": [
        {
          "output_type": "execute_result",
          "data": {
            "text/plain": [
              "<wordcloud.wordcloud.WordCloud at 0x7ff7f31e51d0>"
            ]
          },
          "metadata": {
            "tags": []
          },
          "execution_count": 68
        }
      ]
    },
    {
      "cell_type": "code",
      "metadata": {
        "colab": {
          "base_uri": "https://localhost:8080/",
          "height": 357
        },
        "id": "0dmBcdJltPIl",
        "outputId": "80d27a02-ec12-445d-f50d-df04cafb51e4"
      },
      "source": [
        "fig = plt.figure()\r\n",
        "fig.set_figheight(6)\r\n",
        "fig.set_figwidth(15)\r\n",
        "plt.imshow(wordcloud)\r\n",
        "plt.axis('off')\r\n",
        "plt.show()"
      ],
      "execution_count": 69,
      "outputs": [
        {
          "output_type": "display_data",
          "data": {
            "image/png": "[encoded data removed]",
            "text/plain": [
              "<Figure size 1080x432 with 1 Axes>"
            ]
          },
          "metadata": {
            "tags": [],
            "needs_background": "light"
          }
        }
      ]
    },
    {
      "cell_type": "code",
      "metadata": {
        "id": "koCYnamTtRSf"
      },
      "source": [
        "# Import the tools we need\r\n",
        "from sklearn.feature_extraction.text import CountVectorizer, TfidfVectorizer\r\n",
        "from sklearn.model_selection import train_test_split, cross_val_score\r\n",
        "from sklearn.model_selection import GridSearchCV\r\n",
        "\r\n",
        "from sklearn.naive_bayes import MultinomialNB\r\n",
        "from sklearn.linear_model import LogisticRegression\r\n",
        "\r\n",
        "from sklearn.metrics import classification_report"
      ],
      "execution_count": 70,
      "outputs": []
    },
    {
      "cell_type": "code",
      "metadata": {
        "colab": {
          "base_uri": "https://localhost:8080/"
        },
        "id": "7R8nf77otY_K",
        "outputId": "6d533396-ec2b-47bf-c7f1-fe468513f1d3"
      },
      "source": [
        "# Split the data back to train and test set\r\n",
        "train_df = comp_df[comp_df.is_test==0]\r\n",
        "test_df = comp_df[comp_df.is_test==1]\r\n",
        "train_df.drop('is_test',axis=1, inplace=True)\r\n",
        "test_df.drop('is_test',axis=1, inplace=True)\r\n",
        "test_df.reset_index(drop=True,inplace=True)"
      ],
      "execution_count": 71,
      "outputs": [
        {
          "output_type": "stream",
          "text": [
            "/usr/local/lib/python3.6/dist-packages/pandas/core/frame.py:4174: SettingWithCopyWarning: \n",
            "A value is trying to be set on a copy of a slice from a DataFrame\n",
            "\n",
            "See the caveats in the documentation: https://pandas.pydata.org/pandas-docs/stable/user_guide/indexing.html#returning-a-view-versus-a-copy\n",
            "  errors=errors,\n"
          ],
          "name": "stderr"
        }
      ]
    },
    {
      "cell_type": "code",
      "metadata": {
        "id": "B7ZPfCXTtg6M"
      },
      "source": [
        "\r\n",
        "x_df = train_df.corpus\r\n",
        "y_df = train_df['label']\r\n",
        "\r\n",
        "x_test = test_df.corpus\r\n",
        "y_test =test_df['label']\r\n",
        "\r\n",
        "# Split to train and validation\r\n",
        "x_train, x_val, y_train, y_val = train_test_split(x_df,y_df, test_size=0.2,random_state=42)"
      ],
      "execution_count": 73,
      "outputs": []
    },
    {
      "cell_type": "code",
      "metadata": {
        "colab": {
          "base_uri": "https://localhost:8080/"
        },
        "id": "FaGxRIDbtkzk",
        "outputId": "7280c39f-6c8b-4934-a040-fc62daf882d5"
      },
      "source": [
        "# Check the shape\r\n",
        "x_train.shape, x_val.shape, y_train.shape, y_val.shape"
      ],
      "execution_count": 74,
      "outputs": [
        {
          "output_type": "execute_result",
          "data": {
            "text/plain": [
              "((32925,), (8232,), (32925,), (8232,))"
            ]
          },
          "metadata": {
            "tags": []
          },
          "execution_count": 74
        }
      ]
    },
    {
      "cell_type": "code",
      "metadata": {
        "id": "KsjujhAptptO"
      },
      "source": [
        "# Create the vectorizer\r\n",
        "vectorizer = CountVectorizer(stop_words='english',ngram_range=(1,2),min_df=5).fit(comp_df.corpus)\r\n",
        "\r\n",
        "# transform both train and valid data\r\n",
        "x_train_vector = vectorizer.transform(x_train)\r\n",
        "x_val_vector = vectorizer.transform(x_val)"
      ],
      "execution_count": 75,
      "outputs": []
    },
    {
      "cell_type": "code",
      "metadata": {
        "colab": {
          "base_uri": "https://localhost:8080/"
        },
        "id": "VTnCEk-Rtulo",
        "outputId": "b9ed5a2e-3945-417a-f6da-08ea749e17ae"
      },
      "source": [
        "cross_val_score(LogisticRegression(random_state=42), x_train_vector, y_train, cv=10, verbose=1, n_jobs=-1).mean()"
      ],
      "execution_count": 76,
      "outputs": [
        {
          "output_type": "stream",
          "text": [
            "[Parallel(n_jobs=-1)]: Using backend LokyBackend with 2 concurrent workers.\n",
            "[Parallel(n_jobs=-1)]: Done  10 out of  10 | elapsed:   17.2s finished\n"
          ],
          "name": "stderr"
        },
        {
          "output_type": "execute_result",
          "data": {
            "text/plain": [
              "0.793986553826206"
            ]
          },
          "metadata": {
            "tags": []
          },
          "execution_count": 76
        }
      ]
    },
    {
      "cell_type": "code",
      "metadata": {
        "id": "lTGV-J7-uGG2"
      },
      "source": [
        "params = {\r\n",
        "    'solver':['liblinear','saga','newton-cg','lbfgs'],\r\n",
        "    'C':[0.001,0.01,0.1,1,10,100],\r\n",
        "    'penalty':['l1','l2']\r\n",
        "}\r\n",
        "\r\n",
        "lr_grid = GridSearchCV(LogisticRegression(random_state=42),params, cv=5, verbose=2, n_jobs=-1)\r\n",
        "lr_grid.fit(x_train_vector, y_train)\r\n",
        "\r\n",
        "print(classification_report(y_val, lr_grid.predict(x_val_vector)))"
      ],
      "execution_count": null,
      "outputs": []
    },
    {
      "cell_type": "code",
      "metadata": {
        "colab": {
          "base_uri": "https://localhost:8080/"
        },
        "id": "1M8WHRlfww2V",
        "outputId": "b3cbeae3-02e5-4d6d-f0e6-44a2ec3bd7a8"
      },
      "source": [
        "#To skip the training time on kaggle, I use the best parameter found in my notebook directly\r\n",
        "best_model = LogisticRegression(C=1, penalty='l1', random_state=42, solver='saga')\r\n",
        "best_model.fit(x_train_vector, y_train)\r\n"
      ],
      "execution_count": 77,
      "outputs": [
        {
          "output_type": "stream",
          "text": [
            "/usr/local/lib/python3.6/dist-packages/sklearn/linear_model/_sag.py:330: ConvergenceWarning: The max_iter was reached which means the coef_ did not converge\n",
            "  \"the coef_ did not converge\", ConvergenceWarning)\n"
          ],
          "name": "stderr"
        },
        {
          "output_type": "execute_result",
          "data": {
            "text/plain": [
              "LogisticRegression(C=1, class_weight=None, dual=False, fit_intercept=True,\n",
              "                   intercept_scaling=1, l1_ratio=None, max_iter=100,\n",
              "                   multi_class='auto', n_jobs=None, penalty='l1',\n",
              "                   random_state=42, solver='saga', tol=0.0001, verbose=0,\n",
              "                   warm_start=False)"
            ]
          },
          "metadata": {
            "tags": []
          },
          "execution_count": 77
        }
      ]
    },
    {
      "cell_type": "code",
      "metadata": {
        "colab": {
          "base_uri": "https://localhost:8080/"
        },
        "id": "F7M-OXkQyJmr",
        "outputId": "83f708c3-75ba-4f51-eed0-fe17c958bf57"
      },
      "source": [
        "print(classification_report(y_val, best_model.predict(x_val_vector)))"
      ],
      "execution_count": 95,
      "outputs": [
        {
          "output_type": "stream",
          "text": [
            "              precision    recall  f1-score   support\n",
            "\n",
            "           0       0.84      0.81      0.82      3062\n",
            "           1       0.73      0.80      0.76      1553\n",
            "           2       0.86      0.85      0.86      3617\n",
            "\n",
            "    accuracy                           0.83      8232\n",
            "   macro avg       0.81      0.82      0.81      8232\n",
            "weighted avg       0.83      0.83      0.83      8232\n",
            "\n"
          ],
          "name": "stdout"
        }
      ]
    },
    {
      "cell_type": "code",
      "metadata": {
        "id": "W96rzsAjyy6y"
      },
      "source": [
        "x_test_tf = vectorizer.transform(x_test)"
      ],
      "execution_count": 79,
      "outputs": []
    },
    {
      "cell_type": "code",
      "metadata": {
        "colab": {
          "base_uri": "https://localhost:8080/"
        },
        "id": "Ikb-WFcAybab",
        "outputId": "888224d3-be02-4bb1-845c-31df2cc037f3"
      },
      "source": [
        "y_pred = best_model.predict(x_test_tf)\r\n",
        "print(classification_report(y_test, y_pred))"
      ],
      "execution_count": 80,
      "outputs": [
        {
          "output_type": "stream",
          "text": [
            "              precision    recall  f1-score   support\n",
            "\n",
            "           0       0.83      0.78      0.80      1633\n",
            "           1       0.68      0.74      0.71       619\n",
            "           2       0.81      0.83      0.82      1546\n",
            "\n",
            "    accuracy                           0.79      3798\n",
            "   macro avg       0.77      0.78      0.78      3798\n",
            "weighted avg       0.80      0.79      0.79      3798\n",
            "\n"
          ],
          "name": "stdout"
        }
      ]
    },
    {
      "cell_type": "code",
      "metadata": {
        "colab": {
          "base_uri": "https://localhost:8080/",
          "height": 201
        },
        "id": "6Kfv6Bws6PDc",
        "outputId": "9d4e4415-3f00-4567-f4cd-a993bf9e6dff"
      },
      "source": [
        "df_t.head()"
      ],
      "execution_count": 81,
      "outputs": [
        {
          "output_type": "execute_result",
          "data": {
            "text/html": [
              "<div>\n",
              "<style scoped>\n",
              "    .dataframe tbody tr th:only-of-type {\n",
              "        vertical-align: middle;\n",
              "    }\n",
              "\n",
              "    .dataframe tbody tr th {\n",
              "        vertical-align: top;\n",
              "    }\n",
              "\n",
              "    .dataframe thead th {\n",
              "        text-align: right;\n",
              "    }\n",
              "</style>\n",
              "<table border=\"1\" class=\"dataframe\">\n",
              "  <thead>\n",
              "    <tr style=\"text-align: right;\">\n",
              "      <th></th>\n",
              "      <th>UserName</th>\n",
              "      <th>ScreenName</th>\n",
              "      <th>Location</th>\n",
              "      <th>TweetAt</th>\n",
              "      <th>OriginalTweet</th>\n",
              "      <th>Sentiment</th>\n",
              "    </tr>\n",
              "  </thead>\n",
              "  <tbody>\n",
              "    <tr>\n",
              "      <th>0</th>\n",
              "      <td>3799</td>\n",
              "      <td>48751</td>\n",
              "      <td>London</td>\n",
              "      <td>2020-03-16</td>\n",
              "      <td>@MeNyrbie @Phil_Gahan @Chrisitv https://t.co/i...</td>\n",
              "      <td>Neutral</td>\n",
              "    </tr>\n",
              "    <tr>\n",
              "      <th>1</th>\n",
              "      <td>3800</td>\n",
              "      <td>48752</td>\n",
              "      <td>UK</td>\n",
              "      <td>2020-03-16</td>\n",
              "      <td>advice Talk to your neighbours family to excha...</td>\n",
              "      <td>Positive</td>\n",
              "    </tr>\n",
              "    <tr>\n",
              "      <th>2</th>\n",
              "      <td>3801</td>\n",
              "      <td>48753</td>\n",
              "      <td>Vagabonds</td>\n",
              "      <td>2020-03-16</td>\n",
              "      <td>Coronavirus Australia: Woolworths to give elde...</td>\n",
              "      <td>Positive</td>\n",
              "    </tr>\n",
              "    <tr>\n",
              "      <th>3</th>\n",
              "      <td>3802</td>\n",
              "      <td>48754</td>\n",
              "      <td>NaN</td>\n",
              "      <td>2020-03-16</td>\n",
              "      <td>My food stock is not the only one which is emp...</td>\n",
              "      <td>Positive</td>\n",
              "    </tr>\n",
              "    <tr>\n",
              "      <th>4</th>\n",
              "      <td>3803</td>\n",
              "      <td>48755</td>\n",
              "      <td>NaN</td>\n",
              "      <td>2020-03-16</td>\n",
              "      <td>Me, ready to go at supermarket during the #COV...</td>\n",
              "      <td>Extremely Negative</td>\n",
              "    </tr>\n",
              "  </tbody>\n",
              "</table>\n",
              "</div>"
            ],
            "text/plain": [
              "   UserName  ...           Sentiment\n",
              "0      3799  ...             Neutral\n",
              "1      3800  ...            Positive\n",
              "2      3801  ...            Positive\n",
              "3      3802  ...            Positive\n",
              "4      3803  ...  Extremely Negative\n",
              "\n",
              "[5 rows x 6 columns]"
            ]
          },
          "metadata": {
            "tags": []
          },
          "execution_count": 81
        }
      ]
    },
    {
      "cell_type": "code",
      "metadata": {
        "id": "CIpztwpt9cPR"
      },
      "source": [
        "df_t = df_t[['OriginalTweet','Sentiment']]"
      ],
      "execution_count": 82,
      "outputs": []
    },
    {
      "cell_type": "code",
      "metadata": {
        "id": "MqJCV-TB4Pvl"
      },
      "source": [
        "df_t.columns = ['tweet', 'label']"
      ],
      "execution_count": 83,
      "outputs": []
    },
    {
      "cell_type": "code",
      "metadata": {
        "colab": {
          "base_uri": "https://localhost:8080/",
          "height": 201
        },
        "id": "1UT2Ni594qhB",
        "outputId": "f075a889-b7ae-4f65-d887-c387c8baf577"
      },
      "source": [
        "df_t.head()"
      ],
      "execution_count": 84,
      "outputs": [
        {
          "output_type": "execute_result",
          "data": {
            "text/html": [
              "<div>\n",
              "<style scoped>\n",
              "    .dataframe tbody tr th:only-of-type {\n",
              "        vertical-align: middle;\n",
              "    }\n",
              "\n",
              "    .dataframe tbody tr th {\n",
              "        vertical-align: top;\n",
              "    }\n",
              "\n",
              "    .dataframe thead th {\n",
              "        text-align: right;\n",
              "    }\n",
              "</style>\n",
              "<table border=\"1\" class=\"dataframe\">\n",
              "  <thead>\n",
              "    <tr style=\"text-align: right;\">\n",
              "      <th></th>\n",
              "      <th>tweet</th>\n",
              "      <th>label</th>\n",
              "    </tr>\n",
              "  </thead>\n",
              "  <tbody>\n",
              "    <tr>\n",
              "      <th>0</th>\n",
              "      <td>@MeNyrbie @Phil_Gahan @Chrisitv https://t.co/i...</td>\n",
              "      <td>Neutral</td>\n",
              "    </tr>\n",
              "    <tr>\n",
              "      <th>1</th>\n",
              "      <td>advice Talk to your neighbours family to excha...</td>\n",
              "      <td>Positive</td>\n",
              "    </tr>\n",
              "    <tr>\n",
              "      <th>2</th>\n",
              "      <td>Coronavirus Australia: Woolworths to give elde...</td>\n",
              "      <td>Positive</td>\n",
              "    </tr>\n",
              "    <tr>\n",
              "      <th>3</th>\n",
              "      <td>My food stock is not the only one which is emp...</td>\n",
              "      <td>Positive</td>\n",
              "    </tr>\n",
              "    <tr>\n",
              "      <th>4</th>\n",
              "      <td>Me, ready to go at supermarket during the #COV...</td>\n",
              "      <td>Extremely Negative</td>\n",
              "    </tr>\n",
              "  </tbody>\n",
              "</table>\n",
              "</div>"
            ],
            "text/plain": [
              "                                               tweet               label\n",
              "0  @MeNyrbie @Phil_Gahan @Chrisitv https://t.co/i...             Neutral\n",
              "1  advice Talk to your neighbours family to excha...            Positive\n",
              "2  Coronavirus Australia: Woolworths to give elde...            Positive\n",
              "3  My food stock is not the only one which is emp...            Positive\n",
              "4  Me, ready to go at supermarket during the #COV...  Extremely Negative"
            ]
          },
          "metadata": {
            "tags": []
          },
          "execution_count": 84
        }
      ]
    },
    {
      "cell_type": "code",
      "metadata": {
        "id": "DmCJgcNE4ttB"
      },
      "source": [
        "df_t['label'] = df_t.label.str.replace('Extremely Positive', 'Positive')\r\n",
        "df_t['label'] = df_t.label.str.replace('Extremely Negative', 'Negative')"
      ],
      "execution_count": 85,
      "outputs": []
    },
    {
      "cell_type": "code",
      "metadata": {
        "id": "TP-2JDCk5M2S"
      },
      "source": [
        "df_t['label'] = df_t['label'].map({'Positive':2, 'Negative':0, 'Neutral':1})"
      ],
      "execution_count": 86,
      "outputs": []
    },
    {
      "cell_type": "code",
      "metadata": {
        "colab": {
          "base_uri": "https://localhost:8080/"
        },
        "id": "hmjR9Uwp5dGv",
        "outputId": "219a2fbe-2f12-413a-c9b0-d1e5c5c5013b"
      },
      "source": [
        "df_x, df_y = df_t['tweet'].copy(), df_t['label'].copy()\r\n",
        "df_x.head()"
      ],
      "execution_count": 87,
      "outputs": [
        {
          "output_type": "execute_result",
          "data": {
            "text/plain": [
              "0    @MeNyrbie @Phil_Gahan @Chrisitv https://t.co/i...\n",
              "1    advice Talk to your neighbours family to excha...\n",
              "2    Coronavirus Australia: Woolworths to give elde...\n",
              "3    My food stock is not the only one which is emp...\n",
              "4    Me, ready to go at supermarket during the #COV...\n",
              "Name: tweet, dtype: object"
            ]
          },
          "metadata": {
            "tags": []
          },
          "execution_count": 87
        }
      ]
    },
    {
      "cell_type": "code",
      "metadata": {
        "id": "4iMLA3G151LS"
      },
      "source": [
        "#Remove @ tags\r\n",
        "df_x = df_x.str.replace(r'(@\\w*)','')\r\n",
        "\r\n",
        "#Remove URL\r\n",
        "df_x = df_x.str.replace(r\"http\\S+\", \"\")\r\n",
        "\r\n",
        "#Remove # tag\r\n",
        "df_x = df_x.str.replace(r'#\\w+',\"\")\r\n",
        "\r\n",
        "#Remove all non-character\r\n",
        "df_x = df_x.str.replace(r\"[^a-zA-Z ]\",\"\")\r\n",
        "\r\n",
        "# Remove extra space\r\n",
        "df_x = df_x.str.replace(r'( +)',\" \")\r\n",
        "df_x = df_x.str.strip()\r\n",
        "\r\n",
        "# Change to lowercase\r\n",
        "df_x = df_x.str.lower()"
      ],
      "execution_count": 88,
      "outputs": []
    },
    {
      "cell_type": "code",
      "metadata": {
        "colab": {
          "base_uri": "https://localhost:8080/",
          "height": 35
        },
        "id": "a5rNOIe86z7n",
        "outputId": "94619e4e-a676-4125-d978-3498b4037ce8"
      },
      "source": [
        "df_x[0]"
      ],
      "execution_count": 89,
      "outputs": [
        {
          "output_type": "execute_result",
          "data": {
            "application/vnd.google.colaboratory.intrinsic+json": {
              "type": "string"
            },
            "text/plain": [
              "'and and'"
            ]
          },
          "metadata": {
            "tags": []
          },
          "execution_count": 89
        }
      ]
    },
    {
      "cell_type": "code",
      "metadata": {
        "colab": {
          "base_uri": "https://localhost:8080/"
        },
        "id": "7aLF3pg97CQR",
        "outputId": "be1b0801-2e86-4f60-b7af-d5a186e2812f"
      },
      "source": [
        "df_y.value_counts(normalize= True)"
      ],
      "execution_count": 90,
      "outputs": [
        {
          "output_type": "execute_result",
          "data": {
            "text/plain": [
              "2    0.438467\n",
              "0    0.374128\n",
              "1    0.187404\n",
              "Name: label, dtype: float64"
            ]
          },
          "metadata": {
            "tags": []
          },
          "execution_count": 90
        }
      ]
    },
    {
      "cell_type": "code",
      "metadata": {
        "colab": {
          "base_uri": "https://localhost:8080/"
        },
        "id": "OuVpl2-h7HJz",
        "outputId": "430ba030-44f8-4be5-86ed-67485b891258"
      },
      "source": [
        "tokenizer = Tokenizer()\r\n",
        "tokenizer.fit_on_texts(df_x)\r\n",
        "vocab_size = len(tokenizer.word_index) + 1\r\n",
        "print('vocabulary size:{}'.format(vocab_size))\r\n",
        "\r\n",
        "max_len = max(df_x.apply(len))\r\n",
        "print('max length of input:{}'.format(max_len))\r\n",
        "\r\n",
        "sequence = tokenizer.texts_to_sequences(df_x)\r\n",
        "\r\n",
        "x = pad_sequences(sequence, max_len, padding='post')\r\n",
        "print('example x:{}'.format(x[4]))"
      ],
      "execution_count": 91,
      "outputs": [
        {
          "output_type": "stream",
          "text": [
            "vocabulary size:42089\n",
            "max length of input:286\n",
            "example x:[   86   717     2    73    15    20    52     1 18163    99   111  3842\n",
            "    46    99    36    17    84     8 18164   217     1     8     5   805\n",
            "   294    46    93    89    66    27  1603   431     0     0     0     0\n",
            "     0     0     0     0     0     0     0     0     0     0     0     0\n",
            "     0     0     0     0     0     0     0     0     0     0     0     0\n",
            "     0     0     0     0     0     0     0     0     0     0     0     0\n",
            "     0     0     0     0     0     0     0     0     0     0     0     0\n",
            "     0     0     0     0     0     0     0     0     0     0     0     0\n",
            "     0     0     0     0     0     0     0     0     0     0     0     0\n",
            "     0     0     0     0     0     0     0     0     0     0     0     0\n",
            "     0     0     0     0     0     0     0     0     0     0     0     0\n",
            "     0     0     0     0     0     0     0     0     0     0     0     0\n",
            "     0     0     0     0     0     0     0     0     0     0     0     0\n",
            "     0     0     0     0     0     0     0     0     0     0     0     0\n",
            "     0     0     0     0     0     0     0     0     0     0     0     0\n",
            "     0     0     0     0     0     0     0     0     0     0     0     0\n",
            "     0     0     0     0     0     0     0     0     0     0     0     0\n",
            "     0     0     0     0     0     0     0     0     0     0     0     0\n",
            "     0     0     0     0     0     0     0     0     0     0     0     0\n",
            "     0     0     0     0     0     0     0     0     0     0     0     0\n",
            "     0     0     0     0     0     0     0     0     0     0     0     0\n",
            "     0     0     0     0     0     0     0     0     0     0     0     0\n",
            "     0     0     0     0     0     0     0     0     0     0     0     0\n",
            "     0     0     0     0     0     0     0     0     0     0]\n"
          ],
          "name": "stdout"
        }
      ]
    },
    {
      "cell_type": "code",
      "metadata": {
        "colab": {
          "base_uri": "https://localhost:8080/"
        },
        "id": "5VVc__D57lRN",
        "outputId": "47f737ce-48d9-4240-88c7-261b3466a783"
      },
      "source": [
        "BATCH_SIZE = 64\r\n",
        "EPOCHS = 4\r\n",
        "embedding_dim=16\r\n",
        "model = Sequential([\r\n",
        "    layers.Embedding(vocab_size, embedding_dim, input_length=max_len),\r\n",
        "    layers.Bidirectional(layers.GRU(256, return_sequences=True)),\r\n",
        "    layers.GlobalMaxPool1D(),\r\n",
        "    layers.Dense(64, activation='relu'),\r\n",
        "    layers.Dropout(0.4),\r\n",
        "    layers.Dense(3, activation='sigmoid')\r\n",
        "    \r\n",
        "])\r\n",
        "model.summary()"
      ],
      "execution_count": 92,
      "outputs": [
        {
          "output_type": "stream",
          "text": [
            "Model: \"sequential\"\n",
            "_________________________________________________________________\n",
            "Layer (type)                 Output Shape              Param #   \n",
            "=================================================================\n",
            "embedding (Embedding)        (None, 286, 16)           673424    \n",
            "_________________________________________________________________\n",
            "bidirectional (Bidirectional (None, 286, 512)          420864    \n",
            "_________________________________________________________________\n",
            "global_max_pooling1d (Global (None, 512)               0         \n",
            "_________________________________________________________________\n",
            "dense (Dense)                (None, 64)                32832     \n",
            "_________________________________________________________________\n",
            "dropout (Dropout)            (None, 64)                0         \n",
            "_________________________________________________________________\n",
            "dense_1 (Dense)              (None, 3)                 195       \n",
            "=================================================================\n",
            "Total params: 1,127,315\n",
            "Trainable params: 1,127,315\n",
            "Non-trainable params: 0\n",
            "_________________________________________________________________\n"
          ],
          "name": "stdout"
        }
      ]
    },
    {
      "cell_type": "code",
      "metadata": {
        "id": "86jmdYTFI0KU",
        "outputId": "5eeefbf3-9172-4197-b593-9389d3a50a56",
        "colab": {
          "base_uri": "https://localhost:8080/"
        }
      },
      "source": [
        "model.compile(loss='sparse_categorical_crossentropy', optimizer='adam', metrics=['accuracy'])\r\n",
        "history = model.fit(x, df_y, epochs=EPOCHS, batch_size=BATCH_SIZE, validation_split=0.1)"
      ],
      "execution_count": 93,
      "outputs": [
        {
          "output_type": "stream",
          "text": [
            "Epoch 1/4\n",
            "579/579 [==============================] - 41s 55ms/step - loss: 0.8764 - accuracy: 0.5637 - val_loss: 0.4131 - val_accuracy: 0.8584\n",
            "Epoch 2/4\n",
            "579/579 [==============================] - 31s 53ms/step - loss: 0.3599 - accuracy: 0.8822 - val_loss: 0.3822 - val_accuracy: 0.8644\n",
            "Epoch 3/4\n",
            "579/579 [==============================] - 31s 54ms/step - loss: 0.2038 - accuracy: 0.9359 - val_loss: 0.4407 - val_accuracy: 0.8724\n",
            "Epoch 4/4\n",
            "579/579 [==============================] - 32s 54ms/step - loss: 0.1233 - accuracy: 0.9601 - val_loss: 0.4838 - val_accuracy: 0.8727\n"
          ],
          "name": "stdout"
        }
      ]
    },
    {
      "cell_type": "code",
      "metadata": {
        "id": "lfZuEGeDJEGB",
        "outputId": "300da984-a0bd-49ae-9d18-c5f750793f22",
        "colab": {
          "base_uri": "https://localhost:8080/",
          "height": 513
        }
      },
      "source": [
        "acc = history.history['accuracy']\r\n",
        "loss = history.history['loss']\r\n",
        "val_acc = history.history['val_accuracy']\r\n",
        "val_loss = history.history['val_loss']\r\n",
        "\r\n",
        "_, axis = plt.subplots(1,2, figsize=(16,8))\r\n",
        "axis[0].plot(range(EPOCHS), loss, label='loss')\r\n",
        "axis[0].plot(range(EPOCHS), acc, label='loss')\r\n",
        "axis[1].plot(range(EPOCHS), val_loss, label='loss')\r\n",
        "axis[1].plot(range(EPOCHS), val_acc, label='loss')\r\n",
        "axis[0].legend()\r\n",
        "axis[1].legend()\r\n",
        "axis[0].set_title('loss & accuracy')\r\n",
        "axis[0].set_xlabel('epochs')\r\n",
        "\r\n",
        "axis[1].set_title('val_loss & val_accuracy')\r\n",
        "axis[1].set_xlabel('epochs')\r\n",
        "\r\n",
        "plt.show()\r\n"
      ],
      "execution_count": 94,
      "outputs": [
        {
          "output_type": "display_data",
          "data": {
            "image/png": "[encoded data removed]",
            "text/plain": [
              "<Figure size 1152x576 with 2 Axes>"
            ]
          },
          "metadata": {
            "tags": [],
            "needs_background": "light"
          }
        }
      ]
    },
    {
      "cell_type": "code",
      "metadata": {
        "id": "hd20WSd5NGvU"
      },
      "source": [
        "test_x = df_q['OriginalTweet'].copy()\r\n",
        "test_y = df_q['Sentiment'].copy()\r\n",
        "\r\n"
      ],
      "execution_count": 116,
      "outputs": []
    },
    {
      "cell_type": "code",
      "metadata": {
        "id": "si847aTuNq7v"
      },
      "source": [
        "#Remove @ tags\r\n",
        "test_x = test_x.str.replace(r'(@\\w*)','')\r\n",
        "\r\n",
        "#Remove URL\r\n",
        "test_x = test_x.str.replace(r\"http\\S+\", \"\")\r\n",
        "\r\n",
        "#Remove # tag\r\n",
        "test_x = test_x.str.replace(r'#\\w+',\"\")\r\n",
        "\r\n",
        "#Remove all non-character\r\n",
        "test_x = test_x.str.replace(r\"[^a-zA-Z ]\",\"\")\r\n",
        "\r\n",
        "# Remove extra space\r\n",
        "test_x = test_x.str.replace(r'( +)',\" \")\r\n",
        "test_x = test_x.str.strip()\r\n",
        "\r\n",
        "# Change to lowercase\r\n",
        "test_x = test_x.str.lower()"
      ],
      "execution_count": 126,
      "outputs": []
    },
    {
      "cell_type": "code",
      "metadata": {
        "id": "QW0B-6gvOl3O",
        "outputId": "e861be54-aafb-4bec-f157-ab104085306c",
        "colab": {
          "base_uri": "https://localhost:8080/",
          "height": 35
        }
      },
      "source": [
        "test_x[0]"
      ],
      "execution_count": 127,
      "outputs": [
        {
          "output_type": "execute_result",
          "data": {
            "application/vnd.google.colaboratory.intrinsic+json": {
              "type": "string"
            },
            "text/plain": [
              "'trending new yorkers encounter empty supermarket shelves pictured wegmans in brooklyn soldout online grocers foodkick maxdelivery as fearing shoppers stock up'"
            ]
          },
          "metadata": {
            "tags": []
          },
          "execution_count": 127
        }
      ]
    },
    {
      "cell_type": "code",
      "metadata": {
        "id": "yt1SZgDfOnwb"
      },
      "source": [
        "test_x = tokenizer.texts_to_sequences(test_x)"
      ],
      "execution_count": 128,
      "outputs": []
    },
    {
      "cell_type": "code",
      "metadata": {
        "id": "Th80SHZNOv_c"
      },
      "source": [
        "test_x = pad_sequences(test_x, max_len, padding='post')"
      ],
      "execution_count": 129,
      "outputs": []
    },
    {
      "cell_type": "code",
      "metadata": {
        "id": "v-lpOxXeQ3uT",
        "outputId": "dfa05e95-733a-4964-b8b8-e90903b0d413",
        "colab": {
          "base_uri": "https://localhost:8080/"
        }
      },
      "source": [
        "test_y.head()"
      ],
      "execution_count": 117,
      "outputs": [
        {
          "output_type": "execute_result",
          "data": {
            "text/plain": [
              "0    Extremely Negative\n",
              "1              Positive\n",
              "2    Extremely Positive\n",
              "3              Negative\n",
              "4               Neutral\n",
              "Name: Sentiment, dtype: object"
            ]
          },
          "metadata": {
            "tags": []
          },
          "execution_count": 117
        }
      ]
    },
    {
      "cell_type": "code",
      "metadata": {
        "id": "3mh7qdiCQj9m"
      },
      "source": [
        "test_y = test_y.str.replace('Extremely Positive', 'Positive')\r\n",
        "test_y = test_y.str.replace('Extremely Negative', 'Negative')"
      ],
      "execution_count": 118,
      "outputs": []
    },
    {
      "cell_type": "code",
      "metadata": {
        "id": "GK20F5w7O94a"
      },
      "source": [
        "test_y = test_y.map({'Positive':2, 'Negative':0, 'Neutral':1})"
      ],
      "execution_count": 119,
      "outputs": []
    },
    {
      "cell_type": "code",
      "metadata": {
        "id": "H8hCt_FoPMVC",
        "outputId": "71bff798-5c8d-4574-d1d0-e6d10d45895d",
        "colab": {
          "base_uri": "https://localhost:8080/"
        }
      },
      "source": [
        "y_pred = model.predict(test_x)\r\n",
        "y_pred = np.argmax(y_pred, axis=1)\r\n",
        "print(y_pred)"
      ],
      "execution_count": 131,
      "outputs": [
        {
          "output_type": "stream",
          "text": [
            "[0 2 2 ... 1 0 2]\n"
          ],
          "name": "stdout"
        }
      ]
    },
    {
      "cell_type": "code",
      "metadata": {
        "id": "WtNhZ498PQ7z",
        "outputId": "74c8f345-f2ce-4972-a9fb-cd30f9fb2aab",
        "colab": {
          "base_uri": "https://localhost:8080/",
          "height": 349
        }
      },
      "source": [
        "cm = confusion_matrix(test_y, y_pred)\r\n",
        "cm_df = pd.DataFrame(cm,index=[0,1,2],columns=[0,1,2])\r\n",
        "print(\"Accuracy:\",accuracy_score(test_y, y_pred))\r\n",
        "\r\n",
        "sns.set(font_scale=1.4,color_codes=True,palette=\"deep\")\r\n",
        "sns.heatmap(cm_df,annot=True,annot_kws={\"size\":16},fmt=\"d\",cmap=\"YlGnBu\")\r\n",
        "plt.title(\"Confusion Matrix\")\r\n",
        "plt.xlabel(\"Predicted Value\")\r\n",
        "plt.ylabel(\"True Value\")"
      ],
      "execution_count": 132,
      "outputs": [
        {
          "output_type": "stream",
          "text": [
            "Accuracy: 0.872827804107425\n"
          ],
          "name": "stdout"
        },
        {
          "output_type": "execute_result",
          "data": {
            "text/plain": [
              "Text(25.5, 0.5, 'True Value')"
            ]
          },
          "metadata": {
            "tags": []
          },
          "execution_count": 132
        },
        {
          "output_type": "display_data",
          "data": {
            "image/png": "[encoded data removed]",
            "text/plain": [
              "<Figure size 432x288 with 2 Axes>"
            ]
          },
          "metadata": {
            "tags": []
          }
        }
      ]
    }
  ]
}